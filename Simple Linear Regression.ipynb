{
 "cells": [
  {
   "cell_type": "code",
   "execution_count": 837,
   "id": "ecf22354",
   "metadata": {},
   "outputs": [],
   "source": [
    "import os\n",
    "import matplotlib.pyplot as plt\n",
    "import numpy as np\n",
    "from sklearn import datasets, linear_model\n",
    "from sklearn.metrics import mean_squared_error, r2_score"
   ]
  },
  {
   "cell_type": "code",
   "execution_count": 838,
   "id": "ddbeb432",
   "metadata": {
    "scrolled": true
   },
   "outputs": [],
   "source": [
    "class linear_regression: \n",
    "    def read_csv(self, file_name):\n",
    "        \"\"\"\n",
    "        This function reads the content of the a CSV file and returns the result in a list of array\n",
    "            Arguments:\n",
    "                file_name: string\n",
    "            Returns:\n",
    "                list: Content of the CSV in list of array format e.g. [[data1, data2], [data3, data4]]\n",
    "        \"\"\"\n",
    "        result = []\n",
    "        with open(file_name) as f:\n",
    "            content = f.readlines()\n",
    "            # loop through the csv from start to finish\n",
    "            for x in content[:]:\n",
    "                # split each rows by comma \n",
    "                res = x.split(\",\")\n",
    "                # convert each column to array and add to result array\n",
    "                result.append([float(res[0]), float(res[1])])\n",
    "\n",
    "        return result\n",
    "    \n",
    "    \n",
    "    def calculate_mean(self, list):\n",
    "        \"\"\"\n",
    "        This function calculates the mean/average of a list\n",
    "            Arguments:\n",
    "                list: array\n",
    "            Returns:\n",
    "                float: the total sum of the items in the list/count of items. \n",
    "        \"\"\"\n",
    "        sum = 0\n",
    "        for item in list:\n",
    "            sum += item\n",
    "\n",
    "        return sum/len(list)\n",
    "    \n",
    "    def get_axis(self, list, column_index):\n",
    "        \"\"\"\n",
    "        This function gets a specific column from a list\n",
    "            Arguments:\n",
    "                list: array\n",
    "                column_index: int \n",
    "            Returns:\n",
    "                array: the list of items in the specific column of a list\n",
    "        \"\"\"\n",
    "        response = []\n",
    "        for item in list:\n",
    "            response.append(item[column_index])\n",
    "\n",
    "        return response;  \n",
    "    \n",
    "    def compute_covariant(self, axis_data, axis_mean):\n",
    "        \"\"\"\n",
    "        This function computes the co-variant of each of the axis\n",
    "            Arguments:\n",
    "                axis_data: list\n",
    "                axis_mean: float\n",
    "            Returns:\n",
    "                float: The difference of the axis data and its mean\n",
    "        \"\"\"\n",
    "        return axis_data - axis_mean\n",
    "\n",
    "    \n",
    "    def compute_beta_hat(self, x_axis, mean_x, y_axis, mean_y):\n",
    "        \"\"\"\n",
    "        This function computes the beta_hat of the linear regression\n",
    "            Arguments:\n",
    "                list: list\n",
    "                mean_x: float\n",
    "                mean_y: float\n",
    "            Returns:\n",
    "                float\n",
    "        \"\"\"\n",
    "        sum_numerator = 0;\n",
    "        sum_denomenator = 0;\n",
    "        N = len(x_axis)\n",
    "\n",
    "        for i in range(N):\n",
    "            sum_numerator += (x_axis[i] - mean_x) * (y_axis[i] - mean_y)\n",
    "            sum_denomenator += (x_axis[i] - mean_x) ** 2\n",
    "\n",
    "        coef = sum_numerator / sum_denomenator\n",
    "        return coef\n",
    "\n",
    "    def compute_mean_squared_error(self, y_axis_list, y_prediction):\n",
    "        \"\"\"\n",
    "        This function computes the mean squared error of the linear regression\n",
    "            Arguments:\n",
    "                y_axis_list: list\n",
    "                mean_x: float\n",
    "                mean_y: float\n",
    "            Returns:\n",
    "                float\n",
    "        \"\"\"\n",
    "        square_of_diff = np.square(y_axis_list - y_prediction)\n",
    "        mean_squared_error = np.mean(square_of_diff)\n",
    "        return mean_squared_error\n",
    "    \n",
    "    def compute_r2_score(self, mse, axis): \n",
    "        \"\"\"\n",
    "        This function computes the r squared of the linear regression\n",
    "            Arguments:\n",
    "                mse: float\n",
    "                axis: list\n",
    "            Returns:\n",
    "                float\n",
    "        \"\"\"\n",
    "        variance = np.var(axis) #gets the variance of the axis\n",
    "        return 1 - (mse / variance)\n",
    "    \n",
    "    def predict(self, alpha_hat, beta_hat, x_axis):\n",
    "        \"\"\"\n",
    "        This function predicts the output of the linear regression\n",
    "            Arguments:\n",
    "                alpha_hat: float\n",
    "                beta_hat: float\n",
    "                x_axis: list\n",
    "            Returns:\n",
    "                float\n",
    "        \"\"\"\n",
    "        return alpha_hat * x_axis + beta_hat\n",
    "    \n",
    "linearRegr = linear_regression()"
   ]
  },
  {
   "cell_type": "markdown",
   "id": "d7723183",
   "metadata": {},
   "source": [
    "#### Read CSV"
   ]
  },
  {
   "cell_type": "code",
   "execution_count": 839,
   "id": "bec04830",
   "metadata": {},
   "outputs": [],
   "source": [
    "csv_content = linearRegr.read_csv(\"diabetes1.csv\")"
   ]
  },
  {
   "cell_type": "markdown",
   "id": "8f8801f5",
   "metadata": {},
   "source": [
    "#### Get each axis of the list"
   ]
  },
  {
   "cell_type": "code",
   "execution_count": 840,
   "id": "129005bf",
   "metadata": {},
   "outputs": [],
   "source": [
    "general_x_axis = np.array(linearRegr.get_axis(csv_content, 0))\n",
    "general_y_axis = np.array(linearRegr.get_axis(csv_content, 1))\n",
    "\n",
    "x_axis = general_x_axis[:80]\n",
    "y_axis = general_y_axis[:80]"
   ]
  },
  {
   "cell_type": "code",
   "execution_count": 841,
   "id": "5b93bd14",
   "metadata": {},
   "outputs": [],
   "source": [
    "#calculate the mean of each axis\n",
    "mean_x, mean_y = (linearRegr.calculate_mean(x_axis), linearRegr.calculate_mean(y_axis))"
   ]
  },
  {
   "cell_type": "markdown",
   "id": "ce801f2a",
   "metadata": {},
   "source": [
    "#### Compute beta_hat"
   ]
  },
  {
   "cell_type": "code",
   "execution_count": 842,
   "id": "7e57a8d8",
   "metadata": {
    "scrolled": true
   },
   "outputs": [],
   "source": [
    "beta_hat = linearRegr.compute_beta_hat(x_axis, mean_x, y_axis, mean_y)"
   ]
  },
  {
   "cell_type": "markdown",
   "id": "e7204905",
   "metadata": {},
   "source": [
    "#### Compute alpha_hat"
   ]
  },
  {
   "cell_type": "code",
   "execution_count": 843,
   "id": "c8bed5b4",
   "metadata": {},
   "outputs": [],
   "source": [
    "alpha_hat = mean_y - (beta_hat * mean_x)"
   ]
  },
  {
   "cell_type": "markdown",
   "id": "e2df61af",
   "metadata": {},
   "source": [
    "#### Generate the linear function (y = mx + c)"
   ]
  },
  {
   "cell_type": "code",
   "execution_count": 844,
   "id": "d31c68ac",
   "metadata": {
    "scrolled": true
   },
   "outputs": [],
   "source": [
    "prediction = (beta_hat * x_axis) + alpha_hat"
   ]
  },
  {
   "cell_type": "markdown",
   "id": "254165ff",
   "metadata": {},
   "source": [
    "#### Plot the graph"
   ]
  },
  {
   "cell_type": "code",
   "execution_count": 845,
   "id": "927f81a9",
   "metadata": {},
   "outputs": [],
   "source": [
    "test_length = 20\n",
    "train_length = 80\n",
    "x_train_data = x_axis[:train_length]\n",
    "x_test_data = x_axis[-test_length:]\n",
    "\n",
    "y_train_data = y_axis[:train_length]\n",
    "y_test_data = y_axis[-test_length:]"
   ]
  },
  {
   "cell_type": "code",
   "execution_count": 846,
   "id": "aba1c72f",
   "metadata": {},
   "outputs": [],
   "source": [
    "mse = linearRegr.compute_mean_squared_error(y_axis, prediction)\n",
    "\n",
    "my_r2_score = linearRegr.compute_r2_score(mse, y_axis) \n",
    "intercept = mean_y - (beta_hat * mean_x)"
   ]
  },
  {
   "cell_type": "code",
   "execution_count": 847,
   "id": "8c15a7d2",
   "metadata": {},
   "outputs": [
    {
     "data": {
      "image/png": "[encoded data removed]",
      "text/plain": [
       "<Figure size 432x288 with 1 Axes>"
      ]
     },
     "metadata": {
      "needs_background": "light"
     },
     "output_type": "display_data"
    }
   ],
   "source": [
    "#plot the scatter graph of the dataset\n",
    "plt.scatter(x=x_axis, y=y_axis, label=\"Data points\")\n",
    "plt.legend()\n",
    "plt.title(\"Initial Graph of the Dataset\")\n",
    "plt.xlabel(\"X axis\")\n",
    "plt.ylabel(\"Y axis\")\n",
    "plt.show()"
   ]
  },
  {
   "cell_type": "code",
   "execution_count": 848,
   "id": "f9688bf4",
   "metadata": {},
   "outputs": [
    {
     "data": {
      "image/png": "[encoded data removed]",
      "text/plain": [
       "<Figure size 432x288 with 1 Axes>"
      ]
     },
     "metadata": {
      "needs_background": "light"
     },
     "output_type": "display_data"
    }
   ],
   "source": [
    "# plot a scatter graph\n",
    "plt.title(\"Training and Test Data Points\")\n",
    "plt.scatter(x=x_train_data, y=y_train_data, color=\"blue\", label=\"Training Data points\" )\n",
    "plt.scatter(x=x_test_data, y=y_test_data, color=\"orange\", label=\"Test Data points\")\n",
    "# plot the regression line on the graph \n",
    "plt.plot([min(x_axis),max(x_axis)],[min(regr_line),max(regr_line)],color='green', linewidth=3, label=\"Regression Line\")\n",
    "plt.xlabel(\"X axis\")\n",
    "plt.ylabel(\"Y axis\")\n",
    "# display the graph\n",
    "plt.legend()\n",
    "plt.show()"
   ]
  },
  {
   "cell_type": "code",
   "execution_count": 849,
   "id": "58fb9e42",
   "metadata": {},
   "outputs": [
    {
     "name": "stdout",
     "output_type": "stream",
     "text": [
      "Intercept:146.67\n",
      "Coefficients: 804.12\n",
      "Mean squared error: 3860.04\n",
      "R squared error: 0.21\n"
     ]
    }
   ],
   "source": [
    "print(\"Intercept:%.2f\" % intercept)\n",
    "print(\"Coefficients: %.2f\" % beta_hat)\n",
    "print(\"Mean squared error: %.2f\" % mse)\n",
    "print(\"R squared error: %.2f\" % my_r2_score)"
   ]
  },
  {
   "cell_type": "markdown",
   "id": "55dbb4bf",
   "metadata": {},
   "source": [
    "###  VALIDATING RESULTS WITH SKLEARN"
   ]
  },
  {
   "cell_type": "code",
   "execution_count": 850,
   "id": "b82f2c35",
   "metadata": {},
   "outputs": [],
   "source": [
    "x_axis_sk_data = general_x_axis.reshape(100, 1)\n",
    "y_axis_sk_data = general_y_axis.reshape(100, 1)"
   ]
  },
  {
   "cell_type": "code",
   "execution_count": 851,
   "id": "4c97dc0e",
   "metadata": {},
   "outputs": [],
   "source": [
    "# Splitting data into training and test data\n",
    "test_length = 20\n",
    "train_length = 80\n",
    "x_train_data = x_axis_sk_data[:train_length]\n",
    "x_test_data = x_axis_sk_data[-test_length:]\n",
    "\n",
    "y_train_data = y_axis_sk_data[:train_length]\n",
    "y_test_data = y_axis_sk_data[-test_length:]"
   ]
  },
  {
   "cell_type": "code",
   "execution_count": 852,
   "id": "18cbb39f",
   "metadata": {},
   "outputs": [],
   "source": [
    "#creating a linear regression object\n",
    "sk_linear_regr = linear_model.LinearRegression()"
   ]
  },
  {
   "cell_type": "code",
   "execution_count": 853,
   "id": "266ce9d4",
   "metadata": {},
   "outputs": [
    {
     "data": {
      "text/plain": [
       "LinearRegression()"
      ]
     },
     "execution_count": 853,
     "metadata": {},
     "output_type": "execute_result"
    }
   ],
   "source": [
    "sk_linear_regr.fit(x_train_data, y_train_data)"
   ]
  },
  {
   "cell_type": "code",
   "execution_count": 854,
   "id": "61a0927f",
   "metadata": {},
   "outputs": [],
   "source": [
    "y_axis_prediction = sk_linear_regr.predict(x_test_data)"
   ]
  },
  {
   "cell_type": "code",
   "execution_count": 855,
   "id": "f4b28d71",
   "metadata": {},
   "outputs": [
    {
     "name": "stdout",
     "output_type": "stream",
     "text": [
      "Intercept: 146.67\n",
      "Coefficients: 804.12\n",
      "Mean squared error: 2516.94\n",
      "R squared score: 0.28\n"
     ]
    }
   ],
   "source": [
    "# The coefficients\n",
    "print(\"Intercept: %.2f\" % sk_linear_regr.intercept_)\n",
    "print(\"Coefficients: %.2f\" % sk_linear_regr.coef_)\n",
    "# The mean squared error\n",
    "print(\"Mean squared error: %.2f\" % mean_squared_error(y_test_data, y_axis_prediction))\n",
    "print(\"R squared score: %.2f\" % r2_score(y_test_data, y_axis_prediction))"
   ]
  },
  {
   "cell_type": "code",
   "execution_count": 856,
   "id": "09af07dd",
   "metadata": {
    "scrolled": true
   },
   "outputs": [
    {
     "data": {
      "image/png": "[encoded data removed]",
      "text/plain": [
       "<Figure size 432x288 with 1 Axes>"
      ]
     },
     "metadata": {
      "needs_background": "light"
     },
     "output_type": "display_data"
    }
   ],
   "source": [
    "# Plot outputs\n",
    "plt.title(\"SKLearn Linear Regression\")\n",
    "plt.scatter(x=x_test_data, y=y_test_data, label=\"Data points\")\n",
    "# plot the regression line\n",
    "plt.xlabel(\"X axis\")\n",
    "plt.ylabel(\"Y axis\")\n",
    "plt.plot(x_test_data, y_axis_prediction, color=\"red\", linewidth=3, label=\"Regression Line\")\n",
    "plt.legend()\n",
    "plt.show()"
   ]
  },
  {
   "cell_type": "markdown",
   "id": "45c52641",
   "metadata": {},
   "source": [
    "### Plot a scatter graph to visualize the outputs of Manual and SKLearn Computation"
   ]
  },
  {
   "cell_type": "code",
   "execution_count": 857,
   "id": "ac554e39",
   "metadata": {},
   "outputs": [
    {
     "data": {
      "image/png": "[encoded data removed]",
      "text/plain": [
       "<Figure size 1224x504 with 2 Axes>"
      ]
     },
     "metadata": {
      "needs_background": "light"
     },
     "output_type": "display_data"
    }
   ],
   "source": [
    "fig, plots = plt.subplots(1, 2, figsize=(17,7))\n",
    "plots[0].scatter(x=x_axis, y=y_axis, color=\"blue\", label=\"Manual\", edgecolors = \"white\")\n",
    "plots[0].plot([min(x_axis),max(x_axis)],[min(regr_line),max(regr_line)],color='green', linewidth=3, label=\"Manual regr line\")\n",
    "plots[0].set_xlabel(\"X Axis\")\n",
    "plots[0].set_ylabel(\"Y Axis\")\n",
    "plots[0].set_title(\"Manual Computation\")\n",
    "plots[0].legend()\n",
    "\n",
    "plots[1].scatter(x=x_axis, y=y_axis, color=\"orange\", label=\"SKLearn\", edgecolors = \"white\")\n",
    "plots[1].plot(x_test_data, y_axis_prediction, color=\"red\", linewidth=3, label=\"SK regr line\")\n",
    "plots[1].set_xlabel(\"X Axis\")\n",
    "plots[1].set_ylabel(\"Y Axis\")\n",
    "plots[1].set_title(\"SKLearn Computation\")\n",
    "plots[1].legend()\n",
    "\n",
    "plt.show()"
   ]
  }
 ],
 "metadata": {
  "kernelspec": {
   "display_name": "Python 3 (ipykernel)",
   "language": "python",
   "name": "python3"
  },
  "language_info": {
   "codemirror_mode": {
    "name": "ipython",
    "version": 3
   },
   "file_extension": ".py",
   "mimetype": "text/x-python",
   "name": "python",
   "nbconvert_exporter": "python",
   "pygments_lexer": "ipython3",
   "version": "3.9.12"
  }
 },
 "nbformat": 4,
 "nbformat_minor": 5
}
